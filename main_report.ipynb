{
 "cells": [
  {
   "cell_type": "markdown",
   "metadata": {},
   "source": [
    "## Analysis of employees retirement age of company\n",
    "\n",
    "### Introduction\n",
    "\n",
    "#### This project uses the Python `Polars` package to analyze the quantitative data of company A's former employees, providing a comprehensive analysis of the average age, standard deviation, and other metrics.\n",
    "\n",
    "#### The data was sourced from the following GitHub repository: https://github.com/nogibjj/Mini_PJT_3_Polar_ISL/blob/main/HR.csv\"\n",
    "    - From the available variables, I specifically focused on the \"Age\" at retirement.\n",
    "    - Calcuated mean, median, standard Deviation and so on \n",
    "\n",
    "#### Descriptive Statistics"
   ]
  },
  {
   "cell_type": "code",
   "execution_count": 10,
   "metadata": {},
   "outputs": [
    {
     "name": "stdout",
     "output_type": "stream",
     "text": [
      "shape: (5, 35)\n",
      "┌─────┬───────────┬────────────┬───────────┬───┬────────────┬────────────┬────────────┬────────────┐\n",
      "│ Age ┆ Attrition ┆ BusinessTr ┆ DailyRate ┆ … ┆ YearsAtCom ┆ YearsInCur ┆ YearsSince ┆ YearsWithC │\n",
      "│ --- ┆ ---       ┆ avel       ┆ ---       ┆   ┆ pany       ┆ rentRole   ┆ LastPromot ┆ urrManager │\n",
      "│ i64 ┆ str       ┆ ---        ┆ i64       ┆   ┆ ---        ┆ ---        ┆ ion        ┆ ---        │\n",
      "│     ┆           ┆ str        ┆           ┆   ┆ i64        ┆ i64        ┆ ---        ┆ i64        │\n",
      "│     ┆           ┆            ┆           ┆   ┆            ┆            ┆ i64        ┆            │\n",
      "╞═════╪═══════════╪════════════╪═══════════╪═══╪════════════╪════════════╪════════════╪════════════╡\n",
      "│ 41  ┆ Yes       ┆ Travel_Rar ┆ 1102      ┆ … ┆ 6          ┆ 4          ┆ 0          ┆ 5          │\n",
      "│     ┆           ┆ ely        ┆           ┆   ┆            ┆            ┆            ┆            │\n",
      "│ 49  ┆ No        ┆ Travel_Fre ┆ 279       ┆ … ┆ 10         ┆ 7          ┆ 1          ┆ 7          │\n",
      "│     ┆           ┆ quently    ┆           ┆   ┆            ┆            ┆            ┆            │\n",
      "│ 37  ┆ Yes       ┆ Travel_Rar ┆ 1373      ┆ … ┆ 0          ┆ 0          ┆ 0          ┆ 0          │\n",
      "│     ┆           ┆ ely        ┆           ┆   ┆            ┆            ┆            ┆            │\n",
      "│ 33  ┆ No        ┆ Travel_Fre ┆ 1392      ┆ … ┆ 8          ┆ 7          ┆ 3          ┆ 0          │\n",
      "│     ┆           ┆ quently    ┆           ┆   ┆            ┆            ┆            ┆            │\n",
      "│ 27  ┆ No        ┆ Travel_Rar ┆ 591       ┆ … ┆ 2          ┆ 2          ┆ 2          ┆ 2          │\n",
      "│     ┆           ┆ ely        ┆           ┆   ┆            ┆            ┆            ┆            │\n",
      "└─────┴───────────┴────────────┴───────────┴───┴────────────┴────────────┴────────────┴────────────┘\n"
     ]
    }
   ],
   "source": [
    "import polars as pl\n",
    "import matplotlib.pyplot as plt\n",
    "\n",
    "# Load dataset using Polars\n",
    "ppl = pl.read_csv(\"HR.csv\")\n",
    "\n",
    "# header\n",
    "ppl.head()\n",
    "print(ppl.head())"
   ]
  },
  {
   "cell_type": "code",
   "execution_count": 11,
   "metadata": {},
   "outputs": [
    {
     "name": "stdout",
     "output_type": "stream",
     "text": [
      "shape: (9, 36)\n",
      "┌───────────┬──────────┬───────────┬───────────┬───┬───────────┬───────────┬───────────┬───────────┐\n",
      "│ statistic ┆ Age      ┆ Attrition ┆ BusinessT ┆ … ┆ YearsAtCo ┆ YearsInCu ┆ YearsSinc ┆ YearsWith │\n",
      "│ ---       ┆ ---      ┆ ---       ┆ ravel     ┆   ┆ mpany     ┆ rrentRole ┆ eLastProm ┆ CurrManag │\n",
      "│ str       ┆ f64      ┆ str       ┆ ---       ┆   ┆ ---       ┆ ---       ┆ otion     ┆ er        │\n",
      "│           ┆          ┆           ┆ str       ┆   ┆ f64       ┆ f64       ┆ ---       ┆ ---       │\n",
      "│           ┆          ┆           ┆           ┆   ┆           ┆           ┆ f64       ┆ f64       │\n",
      "╞═══════════╪══════════╪═══════════╪═══════════╪═══╪═══════════╪═══════════╪═══════════╪═══════════╡\n",
      "│ count     ┆ 1470.0   ┆ 1470      ┆ 1470      ┆ … ┆ 1470.0    ┆ 1470.0    ┆ 1470.0    ┆ 1470.0    │\n",
      "│ null_coun ┆ 0.0      ┆ 0         ┆ 0         ┆ … ┆ 0.0       ┆ 0.0       ┆ 0.0       ┆ 0.0       │\n",
      "│ t         ┆          ┆           ┆           ┆   ┆           ┆           ┆           ┆           │\n",
      "│ mean      ┆ 36.92381 ┆ null      ┆ null      ┆ … ┆ 7.008163  ┆ 4.229252  ┆ 2.187755  ┆ 4.123129  │\n",
      "│ std       ┆ 9.135373 ┆ null      ┆ null      ┆ … ┆ 6.126525  ┆ 3.623137  ┆ 3.22243   ┆ 3.568136  │\n",
      "│ min       ┆ 18.0     ┆ No        ┆ Non-Trave ┆ … ┆ 0.0       ┆ 0.0       ┆ 0.0       ┆ 0.0       │\n",
      "│           ┆          ┆           ┆ l         ┆   ┆           ┆           ┆           ┆           │\n",
      "│ 25%       ┆ 30.0     ┆ null      ┆ null      ┆ … ┆ 3.0       ┆ 2.0       ┆ 0.0       ┆ 2.0       │\n",
      "│ 50%       ┆ 36.0     ┆ null      ┆ null      ┆ … ┆ 5.0       ┆ 3.0       ┆ 1.0       ┆ 3.0       │\n",
      "│ 75%       ┆ 43.0     ┆ null      ┆ null      ┆ … ┆ 9.0       ┆ 7.0       ┆ 3.0       ┆ 7.0       │\n",
      "│ max       ┆ 60.0     ┆ Yes       ┆ Travel_Ra ┆ … ┆ 40.0      ┆ 18.0      ┆ 15.0      ┆ 17.0      │\n",
      "│           ┆          ┆           ┆ rely      ┆   ┆           ┆           ┆           ┆           │\n",
      "└───────────┴──────────┴───────────┴───────────┴───┴───────────┴───────────┴───────────┴───────────┘\n"
     ]
    }
   ],
   "source": [
    "# Summary stat\n",
    "full_desc = ppl.describe()\n",
    "print(full_desc)"
   ]
  },
  {
   "cell_type": "markdown",
   "metadata": {},
   "source": [
    "#### Data Visialization"
   ]
  },
  {
   "cell_type": "code",
   "execution_count": 2,
   "metadata": {},
   "outputs": [
    {
     "data": {
      "image/png": "[encoded data removed]",
      "text/plain": [
       "<Figure size 800x600 with 1 Axes>"
      ]
     },
     "metadata": {},
     "output_type": "display_data"
    }
   ],
   "source": [
    "import polars as pl\n",
    "import matplotlib.pyplot as plt\n",
    "\n",
    "# Load dataset using Polars\n",
    "ppl = pl.read_csv(\"HR.csv\")\n",
    "\n",
    "# Calculate statistics for Age\n",
    "full_desc = ppl.describe()\n",
    "age_mean = ppl.select(pl.col(\"Age\").mean()).item()\n",
    "age_median = ppl.select(pl.col(\"Age\").median()).item()\n",
    "age_std = ppl.select(pl.col(\"Age\").std()).item()\n",
    "\n",
    "# Convert Polars dataframe to a list for plotting\n",
    "ages = ppl.select(\"Age\").to_series().to_list()\n",
    "\n",
    "# Plot histogram for Age\n",
    "plt.figure(figsize=(8, 6))\n",
    "plt.hist(ages, bins=10, edgecolor=\"black\")\n",
    "plt.title(\"Average retirement age of company A\")\n",
    "plt.xlabel(\"Age\")\n",
    "plt.ylabel(\"Frequency\")\n",
    "plt.show()"
   ]
  }
 ],
 "metadata": {
  "kernelspec": {
   "display_name": "base",
   "language": "python",
   "name": "python3"
  },
  "language_info": {
   "codemirror_mode": {
    "name": "ipython",
    "version": 3
   },
   "file_extension": ".py",
   "mimetype": "text/x-python",
   "name": "python",
   "nbconvert_exporter": "python",
   "pygments_lexer": "ipython3",
   "version": "3.12.5"
  }
 },
 "nbformat": 4,
 "nbformat_minor": 2
}
